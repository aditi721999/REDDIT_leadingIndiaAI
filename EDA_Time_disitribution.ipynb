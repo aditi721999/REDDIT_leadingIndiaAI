{
 "cells": [
  {
   "cell_type": "code",
   "execution_count": 1,
   "metadata": {},
   "outputs": [],
   "source": [
    "import numpy as np\n",
    "import pandas as pd\n",
    "import matplotlib.pyplot as plt"
   ]
  },
  {
   "cell_type": "code",
   "execution_count": 2,
   "metadata": {},
   "outputs": [],
   "source": [
    "df=pd.read_csv(\"reddit_politics.csv\")"
   ]
  },
  {
   "cell_type": "code",
   "execution_count": 3,
   "metadata": {},
   "outputs": [
    {
     "data": {
      "text/html": [
       "<div>\n",
       "<style scoped>\n",
       "    .dataframe tbody tr th:only-of-type {\n",
       "        vertical-align: middle;\n",
       "    }\n",
       "\n",
       "    .dataframe tbody tr th {\n",
       "        vertical-align: top;\n",
       "    }\n",
       "\n",
       "    .dataframe thead th {\n",
       "        text-align: right;\n",
       "    }\n",
       "</style>\n",
       "<table border=\"1\" class=\"dataframe\">\n",
       "  <thead>\n",
       "    <tr style=\"text-align: right;\">\n",
       "      <th></th>\n",
       "      <th>Unnamed: 0</th>\n",
       "      <th>ID</th>\n",
       "      <th>Title</th>\n",
       "      <th>Author</th>\n",
       "      <th>Date</th>\n",
       "      <th>Post</th>\n",
       "      <th>Flair</th>\n",
       "    </tr>\n",
       "  </thead>\n",
       "  <tbody>\n",
       "    <tr>\n",
       "      <th>0</th>\n",
       "      <td>12</td>\n",
       "      <td>5ld9hf</td>\n",
       "      <td>A year of outrageous lies: From economic growt...</td>\n",
       "      <td>udi_baaba</td>\n",
       "      <td>01-01-2017 08:42</td>\n",
       "      <td>NaN</td>\n",
       "      <td>Politics</td>\n",
       "    </tr>\n",
       "    <tr>\n",
       "      <th>1</th>\n",
       "      <td>16</td>\n",
       "      <td>5ldd3f</td>\n",
       "      <td>Don't tamper with personal laws: Muslim bodies</td>\n",
       "      <td>TemptNotTheBlade</td>\n",
       "      <td>01-01-2017 09:10</td>\n",
       "      <td>NaN</td>\n",
       "      <td>Politics</td>\n",
       "    </tr>\n",
       "    <tr>\n",
       "      <th>2</th>\n",
       "      <td>17</td>\n",
       "      <td>5ldd6b</td>\n",
       "      <td>You need politics to discover truth: Yogendra ...</td>\n",
       "      <td>ohahouch</td>\n",
       "      <td>01-01-2017 09:11</td>\n",
       "      <td>NaN</td>\n",
       "      <td>Politics</td>\n",
       "    </tr>\n",
       "    <tr>\n",
       "      <th>3</th>\n",
       "      <td>20</td>\n",
       "      <td>5ldfyn</td>\n",
       "      <td>Annual Predictions for India, US and Pakistan ...</td>\n",
       "      <td>drishtikone</td>\n",
       "      <td>01-01-2017 09:33</td>\n",
       "      <td>NaN</td>\n",
       "      <td>Politics</td>\n",
       "    </tr>\n",
       "    <tr>\n",
       "      <th>4</th>\n",
       "      <td>31</td>\n",
       "      <td>5ldovw</td>\n",
       "      <td>With no 'mitro', PM Modi denied discounted dri...</td>\n",
       "      <td>z921</td>\n",
       "      <td>01-01-2017 10:42</td>\n",
       "      <td>NaN</td>\n",
       "      <td>Politics</td>\n",
       "    </tr>\n",
       "  </tbody>\n",
       "</table>\n",
       "</div>"
      ],
      "text/plain": [
       "   Unnamed: 0      ID                                              Title  \\\n",
       "0          12  5ld9hf  A year of outrageous lies: From economic growt...   \n",
       "1          16  5ldd3f     Don't tamper with personal laws: Muslim bodies   \n",
       "2          17  5ldd6b  You need politics to discover truth: Yogendra ...   \n",
       "3          20  5ldfyn  Annual Predictions for India, US and Pakistan ...   \n",
       "4          31  5ldovw  With no 'mitro', PM Modi denied discounted dri...   \n",
       "\n",
       "             Author              Date Post     Flair  \n",
       "0         udi_baaba  01-01-2017 08:42  NaN  Politics  \n",
       "1  TemptNotTheBlade  01-01-2017 09:10  NaN  Politics  \n",
       "2          ohahouch  01-01-2017 09:11  NaN  Politics  \n",
       "3       drishtikone  01-01-2017 09:33  NaN  Politics  \n",
       "4              z921  01-01-2017 10:42  NaN  Politics  "
      ]
     },
     "execution_count": 3,
     "metadata": {},
     "output_type": "execute_result"
    }
   ],
   "source": [
    "df.head()\n"
   ]
  },
  {
   "cell_type": "code",
   "execution_count": 4,
   "metadata": {},
   "outputs": [],
   "source": [
    "d=df.drop(['Unnamed: 0'],axis=1)\n"
   ]
  },
  {
   "cell_type": "code",
   "execution_count": 5,
   "metadata": {},
   "outputs": [
    {
     "data": {
      "text/html": [
       "<div>\n",
       "<style scoped>\n",
       "    .dataframe tbody tr th:only-of-type {\n",
       "        vertical-align: middle;\n",
       "    }\n",
       "\n",
       "    .dataframe tbody tr th {\n",
       "        vertical-align: top;\n",
       "    }\n",
       "\n",
       "    .dataframe thead th {\n",
       "        text-align: right;\n",
       "    }\n",
       "</style>\n",
       "<table border=\"1\" class=\"dataframe\">\n",
       "  <thead>\n",
       "    <tr style=\"text-align: right;\">\n",
       "      <th></th>\n",
       "      <th>ID</th>\n",
       "      <th>Title</th>\n",
       "      <th>Author</th>\n",
       "      <th>Date</th>\n",
       "      <th>Flair</th>\n",
       "    </tr>\n",
       "  </thead>\n",
       "  <tbody>\n",
       "    <tr>\n",
       "      <th>0</th>\n",
       "      <td>5ld9hf</td>\n",
       "      <td>A year of outrageous lies: From economic growt...</td>\n",
       "      <td>udi_baaba</td>\n",
       "      <td>01-01-2017 08:42</td>\n",
       "      <td>Politics</td>\n",
       "    </tr>\n",
       "    <tr>\n",
       "      <th>1</th>\n",
       "      <td>5ldd3f</td>\n",
       "      <td>Don't tamper with personal laws: Muslim bodies</td>\n",
       "      <td>TemptNotTheBlade</td>\n",
       "      <td>01-01-2017 09:10</td>\n",
       "      <td>Politics</td>\n",
       "    </tr>\n",
       "    <tr>\n",
       "      <th>2</th>\n",
       "      <td>5ldd6b</td>\n",
       "      <td>You need politics to discover truth: Yogendra ...</td>\n",
       "      <td>ohahouch</td>\n",
       "      <td>01-01-2017 09:11</td>\n",
       "      <td>Politics</td>\n",
       "    </tr>\n",
       "    <tr>\n",
       "      <th>3</th>\n",
       "      <td>5ldfyn</td>\n",
       "      <td>Annual Predictions for India, US and Pakistan ...</td>\n",
       "      <td>drishtikone</td>\n",
       "      <td>01-01-2017 09:33</td>\n",
       "      <td>Politics</td>\n",
       "    </tr>\n",
       "    <tr>\n",
       "      <th>4</th>\n",
       "      <td>5ldovw</td>\n",
       "      <td>With no 'mitro', PM Modi denied discounted dri...</td>\n",
       "      <td>z921</td>\n",
       "      <td>01-01-2017 10:42</td>\n",
       "      <td>Politics</td>\n",
       "    </tr>\n",
       "    <tr>\n",
       "      <th>...</th>\n",
       "      <td>...</td>\n",
       "      <td>...</td>\n",
       "      <td>...</td>\n",
       "      <td>...</td>\n",
       "      <td>...</td>\n",
       "    </tr>\n",
       "    <tr>\n",
       "      <th>93499</th>\n",
       "      <td>g85pji</td>\n",
       "      <td>I haven’t read any confirmed articles that gov...</td>\n",
       "      <td>mcbc97</td>\n",
       "      <td>26-04-2020 07:09</td>\n",
       "      <td>Politics</td>\n",
       "    </tr>\n",
       "    <tr>\n",
       "      <th>93500</th>\n",
       "      <td>g87efp</td>\n",
       "      <td>Divya Bhaskar(Guj), 25th April, front jacket r...</td>\n",
       "      <td>krush_o</td>\n",
       "      <td>26-04-2020 09:08</td>\n",
       "      <td>Politics</td>\n",
       "    </tr>\n",
       "    <tr>\n",
       "      <th>93501</th>\n",
       "      <td>g87tel</td>\n",
       "      <td>Arnab Goswami tells SC all parties in Palghar ...</td>\n",
       "      <td>plshelpthedog</td>\n",
       "      <td>26-04-2020 09:39</td>\n",
       "      <td>Politics</td>\n",
       "    </tr>\n",
       "    <tr>\n",
       "      <th>93502</th>\n",
       "      <td>g892yf</td>\n",
       "      <td>Reliance hired lobbyist Brian Ballard, a close...</td>\n",
       "      <td>mayblum</td>\n",
       "      <td>26-04-2020 11:18</td>\n",
       "      <td>Politics</td>\n",
       "    </tr>\n",
       "    <tr>\n",
       "      <th>93503</th>\n",
       "      <td>g8ai7b</td>\n",
       "      <td>The problem with India's system of elections:</td>\n",
       "      <td>DuckHitler</td>\n",
       "      <td>26-04-2020 13:23</td>\n",
       "      <td>Politics</td>\n",
       "    </tr>\n",
       "  </tbody>\n",
       "</table>\n",
       "<p>93504 rows × 5 columns</p>\n",
       "</div>"
      ],
      "text/plain": [
       "           ID                                              Title  \\\n",
       "0      5ld9hf  A year of outrageous lies: From economic growt...   \n",
       "1      5ldd3f     Don't tamper with personal laws: Muslim bodies   \n",
       "2      5ldd6b  You need politics to discover truth: Yogendra ...   \n",
       "3      5ldfyn  Annual Predictions for India, US and Pakistan ...   \n",
       "4      5ldovw  With no 'mitro', PM Modi denied discounted dri...   \n",
       "...       ...                                                ...   \n",
       "93499  g85pji  I haven’t read any confirmed articles that gov...   \n",
       "93500  g87efp  Divya Bhaskar(Guj), 25th April, front jacket r...   \n",
       "93501  g87tel  Arnab Goswami tells SC all parties in Palghar ...   \n",
       "93502  g892yf  Reliance hired lobbyist Brian Ballard, a close...   \n",
       "93503  g8ai7b      The problem with India's system of elections:   \n",
       "\n",
       "                 Author              Date     Flair  \n",
       "0             udi_baaba  01-01-2017 08:42  Politics  \n",
       "1      TemptNotTheBlade  01-01-2017 09:10  Politics  \n",
       "2              ohahouch  01-01-2017 09:11  Politics  \n",
       "3           drishtikone  01-01-2017 09:33  Politics  \n",
       "4                  z921  01-01-2017 10:42  Politics  \n",
       "...                 ...               ...       ...  \n",
       "93499            mcbc97  26-04-2020 07:09  Politics  \n",
       "93500           krush_o  26-04-2020 09:08  Politics  \n",
       "93501     plshelpthedog  26-04-2020 09:39  Politics  \n",
       "93502           mayblum  26-04-2020 11:18  Politics  \n",
       "93503        DuckHitler  26-04-2020 13:23  Politics  \n",
       "\n",
       "[93504 rows x 5 columns]"
      ]
     },
     "execution_count": 5,
     "metadata": {},
     "output_type": "execute_result"
    }
   ],
   "source": [
    "d=d.drop(['Post'],axis=1)\n",
    "d"
   ]
  },
  {
   "cell_type": "code",
   "execution_count": 6,
   "metadata": {},
   "outputs": [
    {
     "data": {
      "text/plain": [
       "93504"
      ]
     },
     "execution_count": 6,
     "metadata": {},
     "output_type": "execute_result"
    }
   ],
   "source": [
    "len(df)"
   ]
  },
  {
   "cell_type": "code",
   "execution_count": 7,
   "metadata": {},
   "outputs": [],
   "source": [
    "features=df[['Title','Date']]"
   ]
  },
  {
   "cell_type": "code",
   "execution_count": 8,
   "metadata": {},
   "outputs": [
    {
     "data": {
      "text/html": [
       "<div>\n",
       "<style scoped>\n",
       "    .dataframe tbody tr th:only-of-type {\n",
       "        vertical-align: middle;\n",
       "    }\n",
       "\n",
       "    .dataframe tbody tr th {\n",
       "        vertical-align: top;\n",
       "    }\n",
       "\n",
       "    .dataframe thead th {\n",
       "        text-align: right;\n",
       "    }\n",
       "</style>\n",
       "<table border=\"1\" class=\"dataframe\">\n",
       "  <thead>\n",
       "    <tr style=\"text-align: right;\">\n",
       "      <th></th>\n",
       "      <th>Title</th>\n",
       "      <th>Date</th>\n",
       "    </tr>\n",
       "  </thead>\n",
       "  <tbody>\n",
       "    <tr>\n",
       "      <th>0</th>\n",
       "      <td>A year of outrageous lies: From economic growt...</td>\n",
       "      <td>01-01-2017 08:42</td>\n",
       "    </tr>\n",
       "    <tr>\n",
       "      <th>1</th>\n",
       "      <td>Don't tamper with personal laws: Muslim bodies</td>\n",
       "      <td>01-01-2017 09:10</td>\n",
       "    </tr>\n",
       "    <tr>\n",
       "      <th>2</th>\n",
       "      <td>You need politics to discover truth: Yogendra ...</td>\n",
       "      <td>01-01-2017 09:11</td>\n",
       "    </tr>\n",
       "    <tr>\n",
       "      <th>3</th>\n",
       "      <td>Annual Predictions for India, US and Pakistan ...</td>\n",
       "      <td>01-01-2017 09:33</td>\n",
       "    </tr>\n",
       "    <tr>\n",
       "      <th>4</th>\n",
       "      <td>With no 'mitro', PM Modi denied discounted dri...</td>\n",
       "      <td>01-01-2017 10:42</td>\n",
       "    </tr>\n",
       "  </tbody>\n",
       "</table>\n",
       "</div>"
      ],
      "text/plain": [
       "                                               Title              Date\n",
       "0  A year of outrageous lies: From economic growt...  01-01-2017 08:42\n",
       "1     Don't tamper with personal laws: Muslim bodies  01-01-2017 09:10\n",
       "2  You need politics to discover truth: Yogendra ...  01-01-2017 09:11\n",
       "3  Annual Predictions for India, US and Pakistan ...  01-01-2017 09:33\n",
       "4  With no 'mitro', PM Modi denied discounted dri...  01-01-2017 10:42"
      ]
     },
     "execution_count": 8,
     "metadata": {},
     "output_type": "execute_result"
    }
   ],
   "source": [
    "features.head()"
   ]
  },
  {
   "cell_type": "code",
   "execution_count": 9,
   "metadata": {},
   "outputs": [
    {
     "name": "stderr",
     "output_type": "stream",
     "text": [
      "D:\\ML_LD\\Anaconda\\lib\\site-packages\\ipykernel_launcher.py:1: SettingWithCopyWarning: \n",
      "A value is trying to be set on a copy of a slice from a DataFrame.\n",
      "Try using .loc[row_indexer,col_indexer] = value instead\n",
      "\n",
      "See the caveats in the documentation: https://pandas.pydata.org/pandas-docs/stable/user_guide/indexing.html#returning-a-view-versus-a-copy\n",
      "  \"\"\"Entry point for launching an IPython kernel.\n"
     ]
    },
    {
     "data": {
      "text/html": [
       "<div>\n",
       "<style scoped>\n",
       "    .dataframe tbody tr th:only-of-type {\n",
       "        vertical-align: middle;\n",
       "    }\n",
       "\n",
       "    .dataframe tbody tr th {\n",
       "        vertical-align: top;\n",
       "    }\n",
       "\n",
       "    .dataframe thead th {\n",
       "        text-align: right;\n",
       "    }\n",
       "</style>\n",
       "<table border=\"1\" class=\"dataframe\">\n",
       "  <thead>\n",
       "    <tr style=\"text-align: right;\">\n",
       "      <th></th>\n",
       "      <th>Title</th>\n",
       "      <th>Date</th>\n",
       "      <th>date</th>\n",
       "    </tr>\n",
       "  </thead>\n",
       "  <tbody>\n",
       "    <tr>\n",
       "      <th>0</th>\n",
       "      <td>A year of outrageous lies: From economic growt...</td>\n",
       "      <td>01-01-2017 08:42</td>\n",
       "      <td>2017-01-01</td>\n",
       "    </tr>\n",
       "    <tr>\n",
       "      <th>1</th>\n",
       "      <td>Don't tamper with personal laws: Muslim bodies</td>\n",
       "      <td>01-01-2017 09:10</td>\n",
       "      <td>2017-01-01</td>\n",
       "    </tr>\n",
       "    <tr>\n",
       "      <th>2</th>\n",
       "      <td>You need politics to discover truth: Yogendra ...</td>\n",
       "      <td>01-01-2017 09:11</td>\n",
       "      <td>2017-01-01</td>\n",
       "    </tr>\n",
       "    <tr>\n",
       "      <th>3</th>\n",
       "      <td>Annual Predictions for India, US and Pakistan ...</td>\n",
       "      <td>01-01-2017 09:33</td>\n",
       "      <td>2017-01-01</td>\n",
       "    </tr>\n",
       "    <tr>\n",
       "      <th>4</th>\n",
       "      <td>With no 'mitro', PM Modi denied discounted dri...</td>\n",
       "      <td>01-01-2017 10:42</td>\n",
       "      <td>2017-01-01</td>\n",
       "    </tr>\n",
       "  </tbody>\n",
       "</table>\n",
       "</div>"
      ],
      "text/plain": [
       "                                               Title              Date  \\\n",
       "0  A year of outrageous lies: From economic growt...  01-01-2017 08:42   \n",
       "1     Don't tamper with personal laws: Muslim bodies  01-01-2017 09:10   \n",
       "2  You need politics to discover truth: Yogendra ...  01-01-2017 09:11   \n",
       "3  Annual Predictions for India, US and Pakistan ...  01-01-2017 09:33   \n",
       "4  With no 'mitro', PM Modi denied discounted dri...  01-01-2017 10:42   \n",
       "\n",
       "         date  \n",
       "0  2017-01-01  \n",
       "1  2017-01-01  \n",
       "2  2017-01-01  \n",
       "3  2017-01-01  \n",
       "4  2017-01-01  "
      ]
     },
     "execution_count": 9,
     "metadata": {},
     "output_type": "execute_result"
    }
   ],
   "source": [
    "features['date'] = pd.to_datetime(features['Date']).dt.to_period('D')\n",
    "features.head()"
   ]
  },
  {
   "cell_type": "code",
   "execution_count": null,
   "metadata": {},
   "outputs": [],
   "source": []
  },
  {
   "cell_type": "code",
   "execution_count": 10,
   "metadata": {},
   "outputs": [
    {
     "name": "stderr",
     "output_type": "stream",
     "text": [
      "D:\\ML_LD\\Anaconda\\lib\\site-packages\\ipykernel_launcher.py:1: SettingWithCopyWarning: \n",
      "A value is trying to be set on a copy of a slice from a DataFrame.\n",
      "Try using .loc[row_indexer,col_indexer] = value instead\n",
      "\n",
      "See the caveats in the documentation: https://pandas.pydata.org/pandas-docs/stable/user_guide/indexing.html#returning-a-view-versus-a-copy\n",
      "  \"\"\"Entry point for launching an IPython kernel.\n"
     ]
    }
   ],
   "source": [
    "features['Date'] = features['date'].dt.strftime('%d-%m-%Y')\n",
    "features=features.drop(['date'],axis=1)\n"
   ]
  },
  {
   "cell_type": "code",
   "execution_count": 11,
   "metadata": {},
   "outputs": [
    {
     "data": {
      "text/html": [
       "<div>\n",
       "<style scoped>\n",
       "    .dataframe tbody tr th:only-of-type {\n",
       "        vertical-align: middle;\n",
       "    }\n",
       "\n",
       "    .dataframe tbody tr th {\n",
       "        vertical-align: top;\n",
       "    }\n",
       "\n",
       "    .dataframe thead th {\n",
       "        text-align: right;\n",
       "    }\n",
       "</style>\n",
       "<table border=\"1\" class=\"dataframe\">\n",
       "  <thead>\n",
       "    <tr style=\"text-align: right;\">\n",
       "      <th></th>\n",
       "      <th>Title</th>\n",
       "      <th>Date</th>\n",
       "      <th>year</th>\n",
       "    </tr>\n",
       "  </thead>\n",
       "  <tbody>\n",
       "    <tr>\n",
       "      <th>0</th>\n",
       "      <td>A year of outrageous lies: From economic growt...</td>\n",
       "      <td>01-01-2017</td>\n",
       "      <td>2017</td>\n",
       "    </tr>\n",
       "    <tr>\n",
       "      <th>1</th>\n",
       "      <td>Don't tamper with personal laws: Muslim bodies</td>\n",
       "      <td>01-01-2017</td>\n",
       "      <td>2017</td>\n",
       "    </tr>\n",
       "    <tr>\n",
       "      <th>2</th>\n",
       "      <td>You need politics to discover truth: Yogendra ...</td>\n",
       "      <td>01-01-2017</td>\n",
       "      <td>2017</td>\n",
       "    </tr>\n",
       "    <tr>\n",
       "      <th>3</th>\n",
       "      <td>Annual Predictions for India, US and Pakistan ...</td>\n",
       "      <td>01-01-2017</td>\n",
       "      <td>2017</td>\n",
       "    </tr>\n",
       "    <tr>\n",
       "      <th>4</th>\n",
       "      <td>With no 'mitro', PM Modi denied discounted dri...</td>\n",
       "      <td>01-01-2017</td>\n",
       "      <td>2017</td>\n",
       "    </tr>\n",
       "  </tbody>\n",
       "</table>\n",
       "</div>"
      ],
      "text/plain": [
       "                                               Title        Date  year\n",
       "0  A year of outrageous lies: From economic growt...  01-01-2017  2017\n",
       "1     Don't tamper with personal laws: Muslim bodies  01-01-2017  2017\n",
       "2  You need politics to discover truth: Yogendra ...  01-01-2017  2017\n",
       "3  Annual Predictions for India, US and Pakistan ...  01-01-2017  2017\n",
       "4  With no 'mitro', PM Modi denied discounted dri...  01-01-2017  2017"
      ]
     },
     "execution_count": 11,
     "metadata": {},
     "output_type": "execute_result"
    }
   ],
   "source": [
    "features['year'] = pd.DatetimeIndex(features['Date']).year\n",
    "features.head()"
   ]
  },
  {
   "cell_type": "code",
   "execution_count": 12,
   "metadata": {},
   "outputs": [],
   "source": [
    "d=features[['Title','Date']]\n",
    "Dates2=list(d['Date'].unique())\n",
    "\n",
    "k=[]\n",
    "for i in Dates2:\n",
    "    k.append([i,len(d[d['Date']==i])])\n",
    "reviews_per_day=pd.DataFrame(k,columns=['Date','no_of_reviews'])"
   ]
  },
  {
   "cell_type": "code",
   "execution_count": 13,
   "metadata": {},
   "outputs": [],
   "source": [
    "features['month'] = pd.to_datetime(features['Date']).dt.to_period('M')\n",
    "D=features[['Title','month']]\n",
    "Dates1=list(D['month'].unique())\n",
    "\n",
    "k=[]\n",
    "for i in Dates1:\n",
    "    k.append([i,len(D[D['month']==i])])"
   ]
  },
  {
   "cell_type": "code",
   "execution_count": 14,
   "metadata": {},
   "outputs": [],
   "source": [
    "reviews_per_month=pd.DataFrame(k,columns=['month','no_of_reviews'])"
   ]
  },
  {
   "cell_type": "code",
   "execution_count": 15,
   "metadata": {},
   "outputs": [],
   "source": [
    "\n",
    "Day=features[['Title','year']]\n",
    "Dates=list(Day['year'].unique())"
   ]
  },
  {
   "cell_type": "code",
   "execution_count": 16,
   "metadata": {},
   "outputs": [],
   "source": [
    "k=[]\n",
    "for i in Dates:\n",
    "    k.append([i,len(Day[Day['year']==i])])\n"
   ]
  },
  {
   "cell_type": "code",
   "execution_count": 17,
   "metadata": {},
   "outputs": [],
   "source": [
    "reviews_per_year=pd.DataFrame(k,columns=['year','no_of_reviews'])"
   ]
  },
  {
   "cell_type": "code",
   "execution_count": 18,
   "metadata": {},
   "outputs": [],
   "source": [
    "#reviews_per_day.to_csv('reviews_per_day.csv')\n",
    "#reviews_per_month.to_csv('reviews_per_month.csv')\n",
    "#reviews_per_year.to_csv('reviews_per_year.csv')"
   ]
  },
  {
   "cell_type": "code",
   "execution_count": 19,
   "metadata": {},
   "outputs": [],
   "source": [
    "X1=list(reviews_per_day['Date'])\n",
    "Y1=list(reviews_per_day['no_of_reviews'])"
   ]
  },
  {
   "cell_type": "code",
   "execution_count": 20,
   "metadata": {},
   "outputs": [
    {
     "data": {
      "image/png": "[encoded data removed]",
      "text/plain": [
       "<Figure size 432x288 with 1 Axes>"
      ]
     },
     "metadata": {
      "needs_background": "light"
     },
     "output_type": "display_data"
    }
   ],
   "source": [
    "fig1 = plt.figure()\n",
    "ax = fig1.add_axes([0,0,1,1])\n",
    "\n",
    "ax.bar(X1,Y1)\n",
    "plt.show()"
   ]
  },
  {
   "cell_type": "code",
   "execution_count": 21,
   "metadata": {},
   "outputs": [],
   "source": [
    "X2=list(reviews_per_month['month'].astype('str'))\n",
    "Y2=list(reviews_per_month['no_of_reviews'])"
   ]
  },
  {
   "cell_type": "code",
   "execution_count": 22,
   "metadata": {},
   "outputs": [
    {
     "data": {
      "image/png": "[encoded data removed]",
      "text/plain": [
       "<Figure size 432x288 with 1 Axes>"
      ]
     },
     "metadata": {
      "needs_background": "light"
     },
     "output_type": "display_data"
    }
   ],
   "source": [
    "fig2 = plt.figure()\n",
    "ax = fig2.add_axes([0,0,1,1])\n",
    "\n",
    "ax.bar(X2,Y2)\n",
    "plt.show()"
   ]
  },
  {
   "cell_type": "code",
   "execution_count": 23,
   "metadata": {},
   "outputs": [],
   "source": [
    "X3=list(reviews_per_year['year'])\n",
    "Y3=list(reviews_per_year['no_of_reviews'])"
   ]
  },
  {
   "cell_type": "code",
   "execution_count": 24,
   "metadata": {},
   "outputs": [
    {
     "data": {
      "image/png": "[encoded data removed]",
      "text/plain": [
       "<Figure size 432x288 with 1 Axes>"
      ]
     },
     "metadata": {
      "needs_background": "light"
     },
     "output_type": "display_data"
    }
   ],
   "source": [
    "fig3 = plt.figure()\n",
    "ax = fig3.add_axes([0,0,1,1])\n",
    "\n",
    "ax.bar(X3,Y3)\n",
    "plt.show()"
   ]
  },
  {
   "cell_type": "code",
   "execution_count": null,
   "metadata": {},
   "outputs": [],
   "source": []
  }
 ],
 "metadata": {
  "kernelspec": {
   "display_name": "Python 3",
   "language": "python",
   "name": "python3"
  },
  "language_info": {
   "codemirror_mode": {
    "name": "ipython",
    "version": 3
   },
   "file_extension": ".py",
   "mimetype": "text/x-python",
   "name": "python",
   "nbconvert_exporter": "python",
   "pygments_lexer": "ipython3",
   "version": "3.7.6"
  }
 },
 "nbformat": 4,
 "nbformat_minor": 4
}
